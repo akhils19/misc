{
 "cells": [
  {
   "cell_type": "markdown",
   "id": "d02196f8-e124-455e-a77d-514e68635acf",
   "metadata": {},
   "source": [
    "# Data Science Tools and Ecosystem"
   ]
  },
  {
   "cell_type": "markdown",
   "id": "02f67930-a527-43dc-9daf-e65ee7af0b06",
   "metadata": {},
   "source": [
    "## In this notebook, Data Science Tools and Ecosystem are summarized."
   ]
  },
  {
   "cell_type": "markdown",
   "id": "55ff02bc-4e0e-49be-8fbc-42e390cf6206",
   "metadata": {},
   "source": [
    "### Some of the popular languages that Data Scientists use are:\n",
    "1. Python\n",
    "2. R\n",
    "3. Java"
   ]
  },
  {
   "cell_type": "markdown",
   "id": "bb6aec36-d7e5-40ca-b220-99d6f44138f0",
   "metadata": {},
   "source": [
    "## Some of the commonly used libraries used by Data Scientists include:\n",
    "1. Pandas\n",
    "2. Numpy\n",
    "3. Matplotlib"
   ]
  },
  {
   "cell_type": "markdown",
   "id": "440ff350-9916-438e-bfd0-cc607be59715",
   "metadata": {},
   "source": [
    "| Data Science Tools |\n",
    "| -------- |\n",
    "| Spyder  |\n",
    "| Visual Studio |\n",
    "| Jupyter Notebook |"
   ]
  },
  {
   "cell_type": "markdown",
   "id": "e52a33c6-2afc-4e01-b591-5b30665ad37b",
   "metadata": {},
   "source": [
    "### Below are a few examples of evaluating arithmetic expressions in Python"
   ]
  },
  {
   "cell_type": "code",
   "execution_count": 3,
   "id": "94a5ddd3-50ea-4155-a65d-2bc8b35498c6",
   "metadata": {},
   "outputs": [
    {
     "data": {
      "text/plain": [
       "17"
      ]
     },
     "execution_count": 3,
     "metadata": {},
     "output_type": "execute_result"
    }
   ],
   "source": [
    "#This a simple arithmetic expression to mutiply then add integers\n",
    "(3*4)+5"
   ]
  },
  {
   "cell_type": "code",
   "execution_count": 4,
   "id": "43e604e9-40ce-4c78-aca9-71a1217740eb",
   "metadata": {},
   "outputs": [
    {
     "data": {
      "text/plain": [
       "3.3333333333333335"
      ]
     },
     "execution_count": 4,
     "metadata": {},
     "output_type": "execute_result"
    }
   ],
   "source": [
    "#This will convert 200 minutes to hours by diving by 60\n",
    "minutes_to_hours = 200/60\n",
    "minutes_to_hours"
   ]
  },
  {
   "cell_type": "markdown",
   "id": "5eeb9c04-d595-4cdd-8369-b132656218cd",
   "metadata": {},
   "source": [
    "**Objectives:**\n",
    "* List popular languages for Data Science\n",
    "* Some of the commonly used libraries used by Data Scientists\n",
    "* Data Science Tools and Ecosystem"
   ]
  },
  {
   "cell_type": "markdown",
   "id": "e048ad07-e8ec-4ddf-b014-7b228fa1a0ad",
   "metadata": {},
   "source": [
    "## Author\n",
    "Akhil"
   ]
  },
  {
   "cell_type": "code",
   "execution_count": null,
   "id": "4dcf45b8-d1e4-4dc5-8a41-1c0d0a06ba43",
   "metadata": {},
   "outputs": [],
   "source": []
  }
 ],
 "metadata": {
  "kernelspec": {
   "display_name": "Python 3",
   "language": "python",
   "name": "python3"
  },
  "language_info": {
   "codemirror_mode": {
    "name": "ipython",
    "version": 3
   },
   "file_extension": ".py",
   "mimetype": "text/x-python",
   "name": "python",
   "nbconvert_exporter": "python",
   "pygments_lexer": "ipython3",
   "version": "3.8.8"
  }
 },
 "nbformat": 4,
 "nbformat_minor": 5
}
